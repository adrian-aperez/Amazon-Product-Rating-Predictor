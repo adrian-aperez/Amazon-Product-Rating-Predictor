{
 "cells": [
  {
   "cell_type": "code",
   "execution_count": 2,
   "id": "fecac9f1-5813-4e34-871a-04ec6d5f52ee",
   "metadata": {},
   "outputs": [],
   "source": [
    "import pandas as pd\n",
    "import numpy as np\n",
    "import re\n",
    "\n",
    "import unicodedata\n",
    "from nltk.corpus import stopwords\n",
    "\n",
    "\n",
    "\n",
    "\n"
   ]
  },
  {
   "cell_type": "markdown",
   "id": "9f6a72a6-4ce3-406a-99e8-00e24bc2a8e1",
   "metadata": {},
   "source": [
    "## Creamos funciones para preparar datasets"
   ]
  },
  {
   "cell_type": "markdown",
   "id": "7a9ea481-6022-4226-8b5c-7be823d19ca8",
   "metadata": {},
   "source": [
    "#### Champú"
   ]
  },
  {
   "cell_type": "code",
   "execution_count": 5,
   "id": "30d57549-531a-42fd-a832-ff48a78de2bc",
   "metadata": {},
   "outputs": [],
   "source": [
    "def Preprocessing_champu():\n",
    "    df1 = pd.read_csv('champú sólido hombre.csv')\n",
    "    df2 = pd.read_csv('champú sólido hombre details.csv')\n",
    "\n",
    "    df1 = df1.drop_duplicates(subset=['ASIN'], keep='first')\n",
    "    df2 = df2.drop_duplicates(subset=['ASIN'], keep='first')\n",
    "\n",
    "    df_champu = pd.merge(df1, df2, on='ASIN', how='left')\n",
    "\n",
    "    df_champu = df_champu.drop(columns=\"Seller\")\n",
    "    \n",
    "    return df_champu"
   ]
  },
  {
   "cell_type": "code",
   "execution_count": 6,
   "id": "f720585b-d1eb-438c-b06a-32fec319d423",
   "metadata": {
    "scrolled": true
   },
   "outputs": [],
   "source": [
    "df_champu = Preprocessing_champu()"
   ]
  },
  {
   "cell_type": "code",
   "execution_count": 10,
   "id": "ba017ec6-c0c0-49fa-825c-c56bd5453a48",
   "metadata": {
    "scrolled": true
   },
   "outputs": [
    {
     "data": {
      "text/plain": [
       "(186, 17)"
      ]
     },
     "execution_count": 10,
     "metadata": {},
     "output_type": "execute_result"
    }
   ],
   "source": [
    "df_champu.shape"
   ]
  },
  {
   "cell_type": "code",
   "execution_count": null,
   "id": "55fba49f-f384-459f-878c-379d75927d0d",
   "metadata": {},
   "outputs": [],
   "source": []
  },
  {
   "cell_type": "markdown",
   "id": "529761fa-20fe-4429-85f7-855befbf273c",
   "metadata": {},
   "source": [
    "#### Jabón"
   ]
  },
  {
   "cell_type": "code",
   "execution_count": 14,
   "id": "20501bef-5f9b-422d-b677-e22312c7d2fb",
   "metadata": {},
   "outputs": [],
   "source": [
    "def Preprocessing_Jabon():\n",
    "    df1 = pd.read_csv('jabon solido hombre.csv')\n",
    "    df2 = pd.read_csv('jabon solido hombre details.csv')\n",
    "\n",
    "    df1 = df1.drop_duplicates(subset=['ASIN'], keep='first')\n",
    "    df2 = df2.drop_duplicates(subset=['ASIN'], keep='first')\n",
    "\n",
    "    df_jabon = pd.merge(df1, df2, on='ASIN', how='left')\n",
    "    df_jabon = df_jabon.drop(columns=\"Product_Information\")\n",
    "    df_jabon = df_jabon.drop(columns=\"Unnamed: 11\")\n",
    "    \n",
    "    return df_jabon"
   ]
  },
  {
   "cell_type": "code",
   "execution_count": 16,
   "id": "48c97c2b-6bf0-4042-b58a-62e0249aa4a5",
   "metadata": {},
   "outputs": [],
   "source": [
    "df_jabon = Preprocessing_Jabon()"
   ]
  },
  {
   "cell_type": "code",
   "execution_count": 18,
   "id": "3abb7e58-d786-47aa-937b-94b0519094ae",
   "metadata": {
    "scrolled": true
   },
   "outputs": [
    {
     "data": {
      "text/plain": [
       "(196, 17)"
      ]
     },
     "execution_count": 18,
     "metadata": {},
     "output_type": "execute_result"
    }
   ],
   "source": [
    "df_jabon.shape"
   ]
  },
  {
   "cell_type": "code",
   "execution_count": null,
   "id": "b61b2b5d-30bc-466e-9e8f-2e7334960aa0",
   "metadata": {},
   "outputs": [],
   "source": []
  },
  {
   "cell_type": "markdown",
   "id": "45a88bdb-4341-4a4a-9465-a1b475a3aae8",
   "metadata": {},
   "source": [
    "#### Exfoliante"
   ]
  },
  {
   "cell_type": "code",
   "execution_count": 24,
   "id": "1c06ba22-3ab6-45a0-98df-b380d73b5892",
   "metadata": {},
   "outputs": [],
   "source": [
    "def Preprocessing_Exfoliante():\n",
    "    df1 = pd.read_csv('exfoliante solido hombre.csv')\n",
    "    df2 = pd.read_csv('exfoliante solido hombre details.csv')\n",
    "\n",
    "    df1 = df1.drop_duplicates(subset=['ASIN'], keep='first')\n",
    "    df2 = df2.drop_duplicates(subset=['ASIN'], keep='first')\n",
    "\n",
    "    df_exfoliante = pd.merge(df1, df2, on='ASIN', how='left')\n",
    "   \n",
    "    df_exfoliante = df_exfoliante.drop(columns=['Current_Time_y', 'Image_URL_1', 'Image_URL_2', 'Image_URL_3','Image_URL_4', 'Image_URL_5', 'Image_URL_6'])\n",
    "    df_exfoliante = df_exfoliante.drop(columns=['Item_Weight','Product_Details', 'Item_Model_Number','Product_Information','Precio_Envío', 'Style','Color','Seller','Number_of_Answered_Questions','Web_Page_URL'])\n",
    "    return df_exfoliante"
   ]
  },
  {
   "cell_type": "code",
   "execution_count": 26,
   "id": "7c5884e8-f0fe-4ddb-8683-a0fa4f51e7d7",
   "metadata": {
    "scrolled": true
   },
   "outputs": [],
   "source": [
    "df_exfoliante = Preprocessing_Exfoliante()"
   ]
  },
  {
   "cell_type": "code",
   "execution_count": 28,
   "id": "b9466e77-74c4-49bf-b54c-417da133e561",
   "metadata": {},
   "outputs": [
    {
     "data": {
      "text/plain": [
       "(172, 17)"
      ]
     },
     "execution_count": 28,
     "metadata": {},
     "output_type": "execute_result"
    }
   ],
   "source": [
    "df_exfoliante.shape"
   ]
  },
  {
   "cell_type": "markdown",
   "id": "287d5199-aa95-45db-8f46-1fb73d5866d2",
   "metadata": {},
   "source": [
    "#### Valores Repetidos"
   ]
  },
  {
   "cell_type": "code",
   "execution_count": 31,
   "id": "5e982d1b-2ae6-47d8-a68b-7585012b8217",
   "metadata": {},
   "outputs": [],
   "source": [
    "\n",
    "def eliminar_duplicados_productos(df):\n",
    "    \n",
    "    # Verificar si la columna existe\n",
    "    if 'Product_Description' not in df.columns:\n",
    "        raise ValueError(\"El DataFrame no contiene la columna 'Product_Description'\")\n",
    "\n",
    "    copy = df.copy()\n",
    "    \n",
    "    # Calcular duplicados antes\n",
    "    duplicados = copy.duplicated(subset=['Product_Description'], keep='first').sum()\n",
    "    \n",
    "    # Eliminar duplicados (keep='first' conserva la primera ocurrencia)\n",
    "    copy = copy.drop_duplicates(subset=['Product_Description'], keep='first')\n",
    "    \n",
    "\n",
    "    df = copy \n",
    "    \n",
    "    return df"
   ]
  },
  {
   "cell_type": "markdown",
   "id": "6e115dc3-8fea-4d72-b64a-62773c4b04f7",
   "metadata": {},
   "source": [
    "#### Null Data Processing"
   ]
  },
  {
   "cell_type": "code",
   "execution_count": 34,
   "id": "39278c9e-e9c3-471c-92b1-99e98f5d70f7",
   "metadata": {},
   "outputs": [],
   "source": [
    "# def clean_text(text):\n",
    "#     if not isinstance(text, str):  # Por si hay NaN o números\n",
    "#         return \"\"\n",
    "#     # Elimina URLs\n",
    "#     text = re.sub(r'https?://\\S+|www\\.\\S+', '', text)\n",
    "#     # Eliminar tildes y caracteres especiales\n",
    "#     text = unicodedata.normalize(\"NFD\", text)\n",
    "#     text = text.encode(\"ascii\", \"ignore\").decode(\"utf-8\")\n",
    "#     # Elimina menciones (@) y hashtags (#)\n",
    "#     text = re.sub(r'@\\w+|#\\w+', '', text)\n",
    "#     # Elimina caracteres especiales (excepto letras, números y espacios)\n",
    "#     text = re.sub(r'[^\\w\\s]', '', text)\n",
    "#     # Convierte a minúsculas\n",
    "#     text = text.lower()\n",
    "#     # Elimina espacios extras\n",
    "#     text = ' '.join(text.split())\n",
    "#     return text"
   ]
  },
  {
   "cell_type": "code",
   "execution_count": null,
   "id": "c27f1aa3-1038-4503-a902-3bc201f11e24",
   "metadata": {},
   "outputs": [],
   "source": []
  },
  {
   "cell_type": "code",
   "execution_count": null,
   "id": "d89abfed-d4dd-43c8-a295-59abdc9cf95c",
   "metadata": {},
   "outputs": [],
   "source": []
  },
  {
   "cell_type": "code",
   "execution_count": 38,
   "id": "1d2987ae-c0ed-4056-82f2-29d4f5908581",
   "metadata": {},
   "outputs": [],
   "source": [
    "def Preprocessing_Nulls(df):\n",
    "\n",
    "    copy = df.copy()\n",
    "    # Crear dataset con nulos (usando .loc para evitar warnings)\n",
    "    Nulos = copy.loc[copy[\"Star_Rating_y\"].isna()]  # Copia explícita\n",
    "    Nulos.to_csv(\"datos_nulos.csv\", index=False, encoding=\"utf-8\")\n",
    "\n",
    "    # Eliminar filas con nulos (esto crea un nuevo DataFrame)\n",
    "    copy = copy.dropna(subset=[\"Star_Rating_y\", \"Price_x\"])\n",
    "\n",
    "    # Concatenar columnas con .loc\n",
    "    copy.loc[:, 'Product_Description'] = (\n",
    "        copy['Title_x'].fillna('') + ' ' +\n",
    "        copy['Bullet_Points'].fillna('') + ' ' +\n",
    "        copy['Product_Description'].fillna('')\n",
    "    )\n",
    "\n",
    "\n",
    "    \n",
    "    # # Procesar texto\n",
    "    # copy.loc[:, 'Product_Description'] = copy['Product_Description'].apply(clean_text)\n",
    "\n",
    "    copy[\"Inventory\"] = copy[\"Inventory\"].apply( lambda x:0 if x == \"No disponible.\" else 1)  # Cambiamos de tipo a numérica , los valores NaN se corresponden con elementos en stock, lo ponemos a 1\n",
    "    \n",
    "\n",
    "    # Eliminar columnas (usando drop con axis=1 para columnas)\n",
    "    copy = copy.drop(columns=[\"Title_x\", \"Bullet_Points\"], axis=1)  \n",
    "\n",
    "    df= copy\n",
    "\n",
    "    return df\n",
    "    "
   ]
  },
  {
   "cell_type": "markdown",
   "id": "e7b7ed85-3877-43d0-a8f1-49091e197c4e",
   "metadata": {},
   "source": [
    "#### Cambios de tipo y modificación de valores"
   ]
  },
  {
   "cell_type": "code",
   "execution_count": 41,
   "id": "518e7cb5-90f3-4636-8575-8323ad6f5b25",
   "metadata": {},
   "outputs": [],
   "source": [
    "def Transform_data(df):\n",
    "    \n",
    "    copy = df.copy()\n",
    "\n",
    "    copy = copy.rename(columns={\n",
    "    'Inventory': 'Stock',  \n",
    "    'Price_x': 'Price',\n",
    "    'Star_Rating_y': 'Star_Rating',\n",
    "    'Number_of_Reviews_y': 'Reviews',\n",
    "    'Clasificacion_en_los_mas_vendidos_de_Amazon': 'Ranking_Amazon'\n",
    "    })\n",
    "\n",
    "    copy[\"Stock\"] = copy[\"Stock\"].apply( lambda x:0 if x == \"No disponible.\" else 1)\n",
    "    \n",
    "    copy['Price'] = copy['Price'].str.replace('€', '').str.replace(',', '.').astype(float)  #Cambio de tipo string a float y quitamos el simbolo de divisa\n",
    "\n",
    "    copy['Reviews'] = copy['Reviews'].str.extract(r'(\\d+)').astype(int)  \n",
    "\n",
    "    copy['Star_Rating'] = (\n",
    "    copy['Star_Rating']\n",
    "    .str.extract(r'(\\d+[,.]?\\d*)')[0]  # Captura \"4,4\", \"5\", \"5.0\", etc.\n",
    "    .str.replace(',', '.')              # Reemplaza coma por punto\n",
    "    .astype(float)                      # Convierte a float\n",
    "    )\n",
    "\n",
    "\n",
    "    df= copy\n",
    "\n",
    "    return df\n",
    "    \n"
   ]
  },
  {
   "cell_type": "code",
   "execution_count": null,
   "id": "57bcb8f6-4919-4528-9e12-035b83577e7b",
   "metadata": {},
   "outputs": [],
   "source": []
  },
  {
   "cell_type": "code",
   "execution_count": null,
   "id": "5ccea0e4-5b6e-4d7e-a930-2814ca1d72dc",
   "metadata": {},
   "outputs": [],
   "source": []
  },
  {
   "cell_type": "markdown",
   "id": "1f9b9e99-84ab-4400-8e68-a7517a6defaa",
   "metadata": {},
   "source": [
    "### Función Preprocessing"
   ]
  },
  {
   "cell_type": "code",
   "execution_count": 46,
   "id": "4c089a58-241f-4eea-8b4f-493ba6058de9",
   "metadata": {},
   "outputs": [],
   "source": [
    "def Preprocessing():\n",
    "    \n",
    "    df_champu = Preprocessing_champu()           #Ejecutamos las funciones que crean los datasets de productos por tipo\n",
    "    df_jabon = Preprocessing_Jabon()\n",
    "    df_exfoliante = Preprocessing_Exfoliante()\n",
    "\n",
    "    df_champu[\"Tipo\"] = \"champu\"                #Creamos la culumna tipo para almacenar el tipo de producto proveniente de cada dataset\n",
    "    df_jabon[\"Tipo\"] = \"jabon\"\n",
    "    df_exfoliante[\"Tipo\"] = \"exfoliante\"\n",
    "\n",
    "    df = pd.concat([df_champu, df_jabon, df_exfoliante], axis=0, ignore_index=True)    #Unimos los datasets en uno sólo\n",
    "\n",
    "    df = df.drop(columns=[\"Keyword\",\"Brand\",\"Detail_Page_URL\",\"Number_of_Reviews_x\",\"Price_y\"])   #Borramos las columnas que no aporten datos relevantes o esten repetidas\n",
    "    df = df.drop(columns=[\"ASIN\",\"Current_Time\",\"Star_Rating_x\",\"Title_y\",\"Current_Time_x\"])\n",
    "\n",
    "    df = (df.pipe(Preprocessing_Nulls).pipe(Transform_data).pipe(eliminar_duplicados_productos))\n",
    "\n",
    "    \n",
    "    \n",
    "    df_datosaux = df[[\"Stock\",\"Ranking_Amazon\"]]\n",
    "    df = df.drop(columns = [\"Stock\",\"Ranking_Amazon\"])\n",
    "    \n",
    "    df.to_csv(\"datos_productos.csv\", index=False, encoding=\"utf-8\")\n",
    "\n",
    "    return df,df_datosaux"
   ]
  },
  {
   "cell_type": "code",
   "execution_count": 49,
   "id": "0f555fa2-6ccc-4704-bce3-afaf02fd257b",
   "metadata": {},
   "outputs": [],
   "source": [
    "df,df_datosaux = Preprocessing()"
   ]
  },
  {
   "cell_type": "code",
   "execution_count": 53,
   "id": "4ba353f4-12db-4bef-afe9-5c6a1b41ed07",
   "metadata": {},
   "outputs": [
    {
     "data": {
      "text/html": [
       "<div>\n",
       "<style scoped>\n",
       "    .dataframe tbody tr th:only-of-type {\n",
       "        vertical-align: middle;\n",
       "    }\n",
       "\n",
       "    .dataframe tbody tr th {\n",
       "        vertical-align: top;\n",
       "    }\n",
       "\n",
       "    .dataframe thead th {\n",
       "        text-align: right;\n",
       "    }\n",
       "</style>\n",
       "<table border=\"1\" class=\"dataframe\">\n",
       "  <thead>\n",
       "    <tr style=\"text-align: right;\">\n",
       "      <th></th>\n",
       "      <th>Price</th>\n",
       "      <th>Star_Rating</th>\n",
       "      <th>Reviews</th>\n",
       "      <th>Product_Description</th>\n",
       "      <th>Tipo</th>\n",
       "    </tr>\n",
       "  </thead>\n",
       "  <tbody>\n",
       "    <tr>\n",
       "      <th>0</th>\n",
       "      <td>6.95</td>\n",
       "      <td>4.4</td>\n",
       "      <td>477</td>\n",
       "      <td>L'Oréal Men Expert Champú sólido para hombres,...</td>\n",
       "      <td>champu</td>\n",
       "    </tr>\n",
       "    <tr>\n",
       "      <th>2</th>\n",
       "      <td>11.99</td>\n",
       "      <td>4.2</td>\n",
       "      <td>455</td>\n",
       "      <td>Störtebekker® Premium Champú sólido Sándalo (1...</td>\n",
       "      <td>champu</td>\n",
       "    </tr>\n",
       "    <tr>\n",
       "      <th>3</th>\n",
       "      <td>14.99</td>\n",
       "      <td>5.0</td>\n",
       "      <td>12</td>\n",
       "      <td>Champú Sólido sin Parabenos ni Sulfatos-Vegano...</td>\n",
       "      <td>champu</td>\n",
       "    </tr>\n",
       "    <tr>\n",
       "      <th>4</th>\n",
       "      <td>11.99</td>\n",
       "      <td>4.4</td>\n",
       "      <td>64</td>\n",
       "      <td>RAW REVIVAL - Champú solido Romero | Anticaspa...</td>\n",
       "      <td>champu</td>\n",
       "    </tr>\n",
       "    <tr>\n",
       "      <th>5</th>\n",
       "      <td>11.99</td>\n",
       "      <td>4.4</td>\n",
       "      <td>24</td>\n",
       "      <td>Störtebekker® Premium Champú sólido Tortuga - ...</td>\n",
       "      <td>champu</td>\n",
       "    </tr>\n",
       "    <tr>\n",
       "      <th>...</th>\n",
       "      <td>...</td>\n",
       "      <td>...</td>\n",
       "      <td>...</td>\n",
       "      <td>...</td>\n",
       "      <td>...</td>\n",
       "    </tr>\n",
       "    <tr>\n",
       "      <th>540</th>\n",
       "      <td>21.50</td>\n",
       "      <td>5.0</td>\n",
       "      <td>2</td>\n",
       "      <td>Exfoliante Exfoliante de Bambú de Phyt's Men 1...</td>\n",
       "      <td>exfoliante</td>\n",
       "    </tr>\n",
       "    <tr>\n",
       "      <th>542</th>\n",
       "      <td>42.00</td>\n",
       "      <td>4.2</td>\n",
       "      <td>131</td>\n",
       "      <td>Paula’s Choice RESIST Antiedad 2% BHA Exfolian...</td>\n",
       "      <td>exfoliante</td>\n",
       "    </tr>\n",
       "    <tr>\n",
       "      <th>543</th>\n",
       "      <td>20.50</td>\n",
       "      <td>4.1</td>\n",
       "      <td>194</td>\n",
       "      <td>Himalaya Herbals Exfoliante de albaricoque 50 ...</td>\n",
       "      <td>exfoliante</td>\n",
       "    </tr>\n",
       "    <tr>\n",
       "      <th>545</th>\n",
       "      <td>70.52</td>\n",
       "      <td>4.3</td>\n",
       "      <td>649</td>\n",
       "      <td>Vasanti – Rejuvenecedor facial enzimático Brig...</td>\n",
       "      <td>exfoliante</td>\n",
       "    </tr>\n",
       "    <tr>\n",
       "      <th>548</th>\n",
       "      <td>19.29</td>\n",
       "      <td>4.3</td>\n",
       "      <td>19</td>\n",
       "      <td>Majestic Pure Himalayan Salt Body Scrub with L...</td>\n",
       "      <td>exfoliante</td>\n",
       "    </tr>\n",
       "  </tbody>\n",
       "</table>\n",
       "<p>395 rows × 5 columns</p>\n",
       "</div>"
      ],
      "text/plain": [
       "     Price  Star_Rating  Reviews  \\\n",
       "0     6.95          4.4      477   \n",
       "2    11.99          4.2      455   \n",
       "3    14.99          5.0       12   \n",
       "4    11.99          4.4       64   \n",
       "5    11.99          4.4       24   \n",
       "..     ...          ...      ...   \n",
       "540  21.50          5.0        2   \n",
       "542  42.00          4.2      131   \n",
       "543  20.50          4.1      194   \n",
       "545  70.52          4.3      649   \n",
       "548  19.29          4.3       19   \n",
       "\n",
       "                                   Product_Description        Tipo  \n",
       "0    L'Oréal Men Expert Champú sólido para hombres,...      champu  \n",
       "2    Störtebekker® Premium Champú sólido Sándalo (1...      champu  \n",
       "3    Champú Sólido sin Parabenos ni Sulfatos-Vegano...      champu  \n",
       "4    RAW REVIVAL - Champú solido Romero | Anticaspa...      champu  \n",
       "5    Störtebekker® Premium Champú sólido Tortuga - ...      champu  \n",
       "..                                                 ...         ...  \n",
       "540  Exfoliante Exfoliante de Bambú de Phyt's Men 1...  exfoliante  \n",
       "542  Paula’s Choice RESIST Antiedad 2% BHA Exfolian...  exfoliante  \n",
       "543  Himalaya Herbals Exfoliante de albaricoque 50 ...  exfoliante  \n",
       "545  Vasanti – Rejuvenecedor facial enzimático Brig...  exfoliante  \n",
       "548  Majestic Pure Himalayan Salt Body Scrub with L...  exfoliante  \n",
       "\n",
       "[395 rows x 5 columns]"
      ]
     },
     "execution_count": 53,
     "metadata": {},
     "output_type": "execute_result"
    }
   ],
   "source": []
  },
  {
   "cell_type": "code",
   "execution_count": 54,
   "id": "4e134977-d885-4810-bc46-9e84b55f8b9d",
   "metadata": {
    "scrolled": true
   },
   "outputs": [
    {
     "data": {
      "text/plain": [
       "Price                  0\n",
       "Star_Rating            0\n",
       "Reviews                0\n",
       "Product_Description    0\n",
       "Tipo                   0\n",
       "dtype: int64"
      ]
     },
     "execution_count": 54,
     "metadata": {},
     "output_type": "execute_result"
    }
   ],
   "source": [
    "df.isna().sum()"
   ]
  },
  {
   "cell_type": "code",
   "execution_count": null,
   "id": "fb831e52-b162-41b8-ae18-1abc920d03e2",
   "metadata": {},
   "outputs": [],
   "source": []
  },
  {
   "cell_type": "code",
   "execution_count": null,
   "id": "928deb35-abb3-47bf-91af-165e6094b8d2",
   "metadata": {},
   "outputs": [],
   "source": []
  },
  {
   "cell_type": "code",
   "execution_count": 58,
   "id": "3b1930d3-58a7-4b24-a970-dd4a4aa24174",
   "metadata": {},
   "outputs": [
    {
     "data": {
      "text/plain": [
       "(395, 5)"
      ]
     },
     "execution_count": 58,
     "metadata": {},
     "output_type": "execute_result"
    }
   ],
   "source": [
    "df.shape"
   ]
  },
  {
   "cell_type": "markdown",
   "id": "caeaa531-4a8a-480b-ae8b-5e27de67fc6f",
   "metadata": {},
   "source": [
    "### Tratamiento de NaN"
   ]
  },
  {
   "cell_type": "code",
   "execution_count": null,
   "id": "02ada068-6bc9-4c8d-9e76-c5787a772b1d",
   "metadata": {},
   "outputs": [],
   "source": []
  },
  {
   "cell_type": "code",
   "execution_count": 182,
   "id": "e0b34267-d8c0-4f65-b2e2-5c861518ba0c",
   "metadata": {},
   "outputs": [
    {
     "data": {
      "text/plain": [
       "Price                  0\n",
       "Star_Rating            0\n",
       "Reviews                0\n",
       "Product_Description    0\n",
       "Tipo                   0\n",
       "dtype: int64"
      ]
     },
     "execution_count": 182,
     "metadata": {},
     "output_type": "execute_result"
    }
   ],
   "source": [
    "df.isna().sum()"
   ]
  },
  {
   "cell_type": "code",
   "execution_count": 184,
   "id": "1b09b21f-6b51-4002-9680-10667df86857",
   "metadata": {},
   "outputs": [
    {
     "name": "stdout",
     "output_type": "stream",
     "text": [
      "\n",
      "Porcentaje de NaN por columna (%):\n",
      "Price                  0.0\n",
      "Star_Rating            0.0\n",
      "Reviews                0.0\n",
      "Product_Description    0.0\n",
      "Tipo                   0.0\n",
      "dtype: float64\n"
     ]
    }
   ],
   "source": [
    "porcentaje_nan = (df.isna().mean() * 100).round(2)\n",
    "\n",
    "print(\"\\nPorcentaje de NaN por columna (%):\")\n",
    "print(porcentaje_nan)"
   ]
  },
  {
   "cell_type": "code",
   "execution_count": 186,
   "id": "974d82e5-901e-42ec-abe8-59353b5d0d40",
   "metadata": {},
   "outputs": [
    {
     "data": {
      "text/html": [
       "<div>\n",
       "<style scoped>\n",
       "    .dataframe tbody tr th:only-of-type {\n",
       "        vertical-align: middle;\n",
       "    }\n",
       "\n",
       "    .dataframe tbody tr th {\n",
       "        vertical-align: top;\n",
       "    }\n",
       "\n",
       "    .dataframe thead th {\n",
       "        text-align: right;\n",
       "    }\n",
       "</style>\n",
       "<table border=\"1\" class=\"dataframe\">\n",
       "  <thead>\n",
       "    <tr style=\"text-align: right;\">\n",
       "      <th></th>\n",
       "      <th>Price</th>\n",
       "      <th>Star_Rating</th>\n",
       "      <th>Reviews</th>\n",
       "      <th>Product_Description</th>\n",
       "      <th>Tipo</th>\n",
       "    </tr>\n",
       "  </thead>\n",
       "  <tbody>\n",
       "    <tr>\n",
       "      <th>0</th>\n",
       "      <td>6.95</td>\n",
       "      <td>4.4</td>\n",
       "      <td>477</td>\n",
       "      <td>loreal men expert champu solido para hombres j...</td>\n",
       "      <td>champu</td>\n",
       "    </tr>\n",
       "    <tr>\n",
       "      <th>2</th>\n",
       "      <td>11.99</td>\n",
       "      <td>4.2</td>\n",
       "      <td>455</td>\n",
       "      <td>stortebekker premium champu solido sandalo 1 p...</td>\n",
       "      <td>champu</td>\n",
       "    </tr>\n",
       "    <tr>\n",
       "      <th>3</th>\n",
       "      <td>14.99</td>\n",
       "      <td>5.0</td>\n",
       "      <td>12</td>\n",
       "      <td>champu solido sin parabenos ni sulfatosvegano ...</td>\n",
       "      <td>champu</td>\n",
       "    </tr>\n",
       "    <tr>\n",
       "      <th>4</th>\n",
       "      <td>11.99</td>\n",
       "      <td>4.4</td>\n",
       "      <td>64</td>\n",
       "      <td>raw revival champu solido romero anticaspa der...</td>\n",
       "      <td>champu</td>\n",
       "    </tr>\n",
       "    <tr>\n",
       "      <th>5</th>\n",
       "      <td>11.99</td>\n",
       "      <td>4.4</td>\n",
       "      <td>24</td>\n",
       "      <td>stortebekker premium champu solido tortuga cha...</td>\n",
       "      <td>champu</td>\n",
       "    </tr>\n",
       "    <tr>\n",
       "      <th>...</th>\n",
       "      <td>...</td>\n",
       "      <td>...</td>\n",
       "      <td>...</td>\n",
       "      <td>...</td>\n",
       "      <td>...</td>\n",
       "    </tr>\n",
       "    <tr>\n",
       "      <th>540</th>\n",
       "      <td>21.50</td>\n",
       "      <td>5.0</td>\n",
       "      <td>2</td>\n",
       "      <td>exfoliante exfoliante de bambu de phyts men 10...</td>\n",
       "      <td>exfoliante</td>\n",
       "    </tr>\n",
       "    <tr>\n",
       "      <th>542</th>\n",
       "      <td>42.00</td>\n",
       "      <td>4.2</td>\n",
       "      <td>131</td>\n",
       "      <td>paulas choice resist antiedad 2 bha exfoliante...</td>\n",
       "      <td>exfoliante</td>\n",
       "    </tr>\n",
       "    <tr>\n",
       "      <th>543</th>\n",
       "      <td>20.50</td>\n",
       "      <td>4.1</td>\n",
       "      <td>194</td>\n",
       "      <td>himalaya herbals exfoliante de albaricoque 50 ...</td>\n",
       "      <td>exfoliante</td>\n",
       "    </tr>\n",
       "    <tr>\n",
       "      <th>545</th>\n",
       "      <td>70.52</td>\n",
       "      <td>4.3</td>\n",
       "      <td>649</td>\n",
       "      <td>vasanti rejuvenecedor facial enzimatico bright...</td>\n",
       "      <td>exfoliante</td>\n",
       "    </tr>\n",
       "    <tr>\n",
       "      <th>548</th>\n",
       "      <td>19.29</td>\n",
       "      <td>4.3</td>\n",
       "      <td>19</td>\n",
       "      <td>majestic pure himalayan salt body scrub with l...</td>\n",
       "      <td>exfoliante</td>\n",
       "    </tr>\n",
       "  </tbody>\n",
       "</table>\n",
       "<p>395 rows × 5 columns</p>\n",
       "</div>"
      ],
      "text/plain": [
       "     Price  Star_Rating  Reviews  \\\n",
       "0     6.95          4.4      477   \n",
       "2    11.99          4.2      455   \n",
       "3    14.99          5.0       12   \n",
       "4    11.99          4.4       64   \n",
       "5    11.99          4.4       24   \n",
       "..     ...          ...      ...   \n",
       "540  21.50          5.0        2   \n",
       "542  42.00          4.2      131   \n",
       "543  20.50          4.1      194   \n",
       "545  70.52          4.3      649   \n",
       "548  19.29          4.3       19   \n",
       "\n",
       "                                   Product_Description        Tipo  \n",
       "0    loreal men expert champu solido para hombres j...      champu  \n",
       "2    stortebekker premium champu solido sandalo 1 p...      champu  \n",
       "3    champu solido sin parabenos ni sulfatosvegano ...      champu  \n",
       "4    raw revival champu solido romero anticaspa der...      champu  \n",
       "5    stortebekker premium champu solido tortuga cha...      champu  \n",
       "..                                                 ...         ...  \n",
       "540  exfoliante exfoliante de bambu de phyts men 10...  exfoliante  \n",
       "542  paulas choice resist antiedad 2 bha exfoliante...  exfoliante  \n",
       "543  himalaya herbals exfoliante de albaricoque 50 ...  exfoliante  \n",
       "545  vasanti rejuvenecedor facial enzimatico bright...  exfoliante  \n",
       "548  majestic pure himalayan salt body scrub with l...  exfoliante  \n",
       "\n",
       "[395 rows x 5 columns]"
      ]
     },
     "execution_count": 186,
     "metadata": {},
     "output_type": "execute_result"
    }
   ],
   "source": [
    "df\n"
   ]
  },
  {
   "cell_type": "code",
   "execution_count": null,
   "id": "ea917cb8-23fb-43fc-8e25-6566d26f9f5e",
   "metadata": {},
   "outputs": [],
   "source": []
  },
  {
   "cell_type": "code",
   "execution_count": 189,
   "id": "d88cbdda-7bbd-406b-a44c-867dc15cb709",
   "metadata": {},
   "outputs": [
    {
     "data": {
      "text/html": [
       "<div>\n",
       "<style scoped>\n",
       "    .dataframe tbody tr th:only-of-type {\n",
       "        vertical-align: middle;\n",
       "    }\n",
       "\n",
       "    .dataframe tbody tr th {\n",
       "        vertical-align: top;\n",
       "    }\n",
       "\n",
       "    .dataframe thead th {\n",
       "        text-align: right;\n",
       "    }\n",
       "</style>\n",
       "<table border=\"1\" class=\"dataframe\">\n",
       "  <thead>\n",
       "    <tr style=\"text-align: right;\">\n",
       "      <th></th>\n",
       "      <th>Stock</th>\n",
       "      <th>Ranking_Amazon</th>\n",
       "    </tr>\n",
       "  </thead>\n",
       "  <tbody>\n",
       "    <tr>\n",
       "      <th>0</th>\n",
       "      <td>1</td>\n",
       "      <td>nº62.734 en Belleza ( Ver el Top 100 en Bellez...</td>\n",
       "    </tr>\n",
       "    <tr>\n",
       "      <th>2</th>\n",
       "      <td>1</td>\n",
       "      <td>nº64.795 en Belleza ( Ver el Top 100 en Bellez...</td>\n",
       "    </tr>\n",
       "    <tr>\n",
       "      <th>3</th>\n",
       "      <td>1</td>\n",
       "      <td>nº11.704 en Belleza ( Ver el Top 100 en Bellez...</td>\n",
       "    </tr>\n",
       "    <tr>\n",
       "      <th>4</th>\n",
       "      <td>1</td>\n",
       "      <td>nº4.764 en Belleza ( Ver el Top 100 en Belleza...</td>\n",
       "    </tr>\n",
       "    <tr>\n",
       "      <th>5</th>\n",
       "      <td>1</td>\n",
       "      <td>nº187.189 en Belleza ( Ver el Top 100 en Belle...</td>\n",
       "    </tr>\n",
       "    <tr>\n",
       "      <th>...</th>\n",
       "      <td>...</td>\n",
       "      <td>...</td>\n",
       "    </tr>\n",
       "    <tr>\n",
       "      <th>540</th>\n",
       "      <td>1</td>\n",
       "      <td>NaN</td>\n",
       "    </tr>\n",
       "    <tr>\n",
       "      <th>542</th>\n",
       "      <td>1</td>\n",
       "      <td>nº142.183 en Belleza ( Ver el Top 100 en Belle...</td>\n",
       "    </tr>\n",
       "    <tr>\n",
       "      <th>543</th>\n",
       "      <td>1</td>\n",
       "      <td>NaN</td>\n",
       "    </tr>\n",
       "    <tr>\n",
       "      <th>545</th>\n",
       "      <td>1</td>\n",
       "      <td>nº241.472 en Belleza ( Ver el Top 100 en Belle...</td>\n",
       "    </tr>\n",
       "    <tr>\n",
       "      <th>548</th>\n",
       "      <td>1</td>\n",
       "      <td>nº280.275 en Belleza ( Ver el Top 100 en Belle...</td>\n",
       "    </tr>\n",
       "  </tbody>\n",
       "</table>\n",
       "<p>395 rows × 2 columns</p>\n",
       "</div>"
      ],
      "text/plain": [
       "     Stock                                     Ranking_Amazon\n",
       "0        1  nº62.734 en Belleza ( Ver el Top 100 en Bellez...\n",
       "2        1  nº64.795 en Belleza ( Ver el Top 100 en Bellez...\n",
       "3        1  nº11.704 en Belleza ( Ver el Top 100 en Bellez...\n",
       "4        1  nº4.764 en Belleza ( Ver el Top 100 en Belleza...\n",
       "5        1  nº187.189 en Belleza ( Ver el Top 100 en Belle...\n",
       "..     ...                                                ...\n",
       "540      1                                                NaN\n",
       "542      1  nº142.183 en Belleza ( Ver el Top 100 en Belle...\n",
       "543      1                                                NaN\n",
       "545      1  nº241.472 en Belleza ( Ver el Top 100 en Belle...\n",
       "548      1  nº280.275 en Belleza ( Ver el Top 100 en Belle...\n",
       "\n",
       "[395 rows x 2 columns]"
      ]
     },
     "execution_count": 189,
     "metadata": {},
     "output_type": "execute_result"
    }
   ],
   "source": [
    "df_datosaux"
   ]
  },
  {
   "cell_type": "code",
   "execution_count": null,
   "id": "494dbf30-63cd-47ce-87ae-435add20adeb",
   "metadata": {},
   "outputs": [],
   "source": []
  },
  {
   "cell_type": "code",
   "execution_count": 192,
   "id": "868bd8ed-0964-4f7b-b611-a46646e4ebda",
   "metadata": {},
   "outputs": [
    {
     "data": {
      "text/html": [
       "<div>\n",
       "<style scoped>\n",
       "    .dataframe tbody tr th:only-of-type {\n",
       "        vertical-align: middle;\n",
       "    }\n",
       "\n",
       "    .dataframe tbody tr th {\n",
       "        vertical-align: top;\n",
       "    }\n",
       "\n",
       "    .dataframe thead th {\n",
       "        text-align: right;\n",
       "    }\n",
       "</style>\n",
       "<table border=\"1\" class=\"dataframe\">\n",
       "  <thead>\n",
       "    <tr style=\"text-align: right;\">\n",
       "      <th></th>\n",
       "      <th>Price</th>\n",
       "      <th>Star_Rating</th>\n",
       "      <th>Reviews</th>\n",
       "      <th>Product_Description</th>\n",
       "      <th>Tipo</th>\n",
       "    </tr>\n",
       "  </thead>\n",
       "  <tbody>\n",
       "    <tr>\n",
       "      <th>0</th>\n",
       "      <td>6.95</td>\n",
       "      <td>4.4</td>\n",
       "      <td>477</td>\n",
       "      <td>loreal men expert champu solido para hombres j...</td>\n",
       "      <td>champu</td>\n",
       "    </tr>\n",
       "    <tr>\n",
       "      <th>2</th>\n",
       "      <td>11.99</td>\n",
       "      <td>4.2</td>\n",
       "      <td>455</td>\n",
       "      <td>stortebekker premium champu solido sandalo 1 p...</td>\n",
       "      <td>champu</td>\n",
       "    </tr>\n",
       "    <tr>\n",
       "      <th>3</th>\n",
       "      <td>14.99</td>\n",
       "      <td>5.0</td>\n",
       "      <td>12</td>\n",
       "      <td>champu solido sin parabenos ni sulfatosvegano ...</td>\n",
       "      <td>champu</td>\n",
       "    </tr>\n",
       "    <tr>\n",
       "      <th>4</th>\n",
       "      <td>11.99</td>\n",
       "      <td>4.4</td>\n",
       "      <td>64</td>\n",
       "      <td>raw revival champu solido romero anticaspa der...</td>\n",
       "      <td>champu</td>\n",
       "    </tr>\n",
       "    <tr>\n",
       "      <th>5</th>\n",
       "      <td>11.99</td>\n",
       "      <td>4.4</td>\n",
       "      <td>24</td>\n",
       "      <td>stortebekker premium champu solido tortuga cha...</td>\n",
       "      <td>champu</td>\n",
       "    </tr>\n",
       "    <tr>\n",
       "      <th>...</th>\n",
       "      <td>...</td>\n",
       "      <td>...</td>\n",
       "      <td>...</td>\n",
       "      <td>...</td>\n",
       "      <td>...</td>\n",
       "    </tr>\n",
       "    <tr>\n",
       "      <th>540</th>\n",
       "      <td>21.50</td>\n",
       "      <td>5.0</td>\n",
       "      <td>2</td>\n",
       "      <td>exfoliante exfoliante de bambu de phyts men 10...</td>\n",
       "      <td>exfoliante</td>\n",
       "    </tr>\n",
       "    <tr>\n",
       "      <th>542</th>\n",
       "      <td>42.00</td>\n",
       "      <td>4.2</td>\n",
       "      <td>131</td>\n",
       "      <td>paulas choice resist antiedad 2 bha exfoliante...</td>\n",
       "      <td>exfoliante</td>\n",
       "    </tr>\n",
       "    <tr>\n",
       "      <th>543</th>\n",
       "      <td>20.50</td>\n",
       "      <td>4.1</td>\n",
       "      <td>194</td>\n",
       "      <td>himalaya herbals exfoliante de albaricoque 50 ...</td>\n",
       "      <td>exfoliante</td>\n",
       "    </tr>\n",
       "    <tr>\n",
       "      <th>545</th>\n",
       "      <td>70.52</td>\n",
       "      <td>4.3</td>\n",
       "      <td>649</td>\n",
       "      <td>vasanti rejuvenecedor facial enzimatico bright...</td>\n",
       "      <td>exfoliante</td>\n",
       "    </tr>\n",
       "    <tr>\n",
       "      <th>548</th>\n",
       "      <td>19.29</td>\n",
       "      <td>4.3</td>\n",
       "      <td>19</td>\n",
       "      <td>majestic pure himalayan salt body scrub with l...</td>\n",
       "      <td>exfoliante</td>\n",
       "    </tr>\n",
       "  </tbody>\n",
       "</table>\n",
       "<p>395 rows × 5 columns</p>\n",
       "</div>"
      ],
      "text/plain": [
       "     Price  Star_Rating  Reviews  \\\n",
       "0     6.95          4.4      477   \n",
       "2    11.99          4.2      455   \n",
       "3    14.99          5.0       12   \n",
       "4    11.99          4.4       64   \n",
       "5    11.99          4.4       24   \n",
       "..     ...          ...      ...   \n",
       "540  21.50          5.0        2   \n",
       "542  42.00          4.2      131   \n",
       "543  20.50          4.1      194   \n",
       "545  70.52          4.3      649   \n",
       "548  19.29          4.3       19   \n",
       "\n",
       "                                   Product_Description        Tipo  \n",
       "0    loreal men expert champu solido para hombres j...      champu  \n",
       "2    stortebekker premium champu solido sandalo 1 p...      champu  \n",
       "3    champu solido sin parabenos ni sulfatosvegano ...      champu  \n",
       "4    raw revival champu solido romero anticaspa der...      champu  \n",
       "5    stortebekker premium champu solido tortuga cha...      champu  \n",
       "..                                                 ...         ...  \n",
       "540  exfoliante exfoliante de bambu de phyts men 10...  exfoliante  \n",
       "542  paulas choice resist antiedad 2 bha exfoliante...  exfoliante  \n",
       "543  himalaya herbals exfoliante de albaricoque 50 ...  exfoliante  \n",
       "545  vasanti rejuvenecedor facial enzimatico bright...  exfoliante  \n",
       "548  majestic pure himalayan salt body scrub with l...  exfoliante  \n",
       "\n",
       "[395 rows x 5 columns]"
      ]
     },
     "execution_count": 192,
     "metadata": {},
     "output_type": "execute_result"
    }
   ],
   "source": [
    "df"
   ]
  },
  {
   "cell_type": "code",
   "execution_count": null,
   "id": "2739e0d6-0827-4257-851e-0365170f90ae",
   "metadata": {},
   "outputs": [],
   "source": []
  },
  {
   "cell_type": "code",
   "execution_count": 195,
   "id": "5c3793e1-a593-4a98-9ed9-5a9a608547c0",
   "metadata": {},
   "outputs": [
    {
     "name": "stdout",
     "output_type": "stream",
     "text": [
      "Empty DataFrame\n",
      "Columns: [Price, Star_Rating, Reviews, Product_Description, Tipo]\n",
      "Index: []\n"
     ]
    }
   ],
   "source": [
    "duplicados = df[df.duplicated(subset=['Product_Description'], keep=False)]\n",
    "print(duplicados)"
   ]
  },
  {
   "cell_type": "code",
   "execution_count": null,
   "id": "606ced60-f926-47d1-ad44-2dcd951161ee",
   "metadata": {},
   "outputs": [],
   "source": []
  },
  {
   "cell_type": "code",
   "execution_count": null,
   "id": "64f10cb7-e258-4188-a6c6-2d4a27208eca",
   "metadata": {},
   "outputs": [],
   "source": []
  },
  {
   "cell_type": "code",
   "execution_count": null,
   "id": "87f1c8c7-0d0d-4fd6-8b0b-b1cf83dad252",
   "metadata": {},
   "outputs": [],
   "source": []
  },
  {
   "cell_type": "code",
   "execution_count": null,
   "id": "9a34199f-bf51-4a15-8870-35bb47ea336c",
   "metadata": {},
   "outputs": [],
   "source": []
  },
  {
   "cell_type": "code",
   "execution_count": null,
   "id": "cad1daa0-bd6d-4de9-a0e1-3c9e1e901173",
   "metadata": {},
   "outputs": [],
   "source": []
  },
  {
   "cell_type": "code",
   "execution_count": null,
   "id": "d6403234-fdde-4549-9d44-a3c76d092087",
   "metadata": {},
   "outputs": [],
   "source": []
  },
  {
   "cell_type": "code",
   "execution_count": null,
   "id": "18424c48-6ee4-46db-8267-c16c94caea17",
   "metadata": {},
   "outputs": [],
   "source": []
  }
 ],
 "metadata": {
  "kernelspec": {
   "display_name": "Python [conda env:base]",
   "language": "python",
   "name": "conda-base-py"
  },
  "language_info": {
   "codemirror_mode": {
    "name": "ipython",
    "version": 3
   },
   "file_extension": ".py",
   "mimetype": "text/x-python",
   "name": "python",
   "nbconvert_exporter": "python",
   "pygments_lexer": "ipython3",
   "version": "3.12.7"
  }
 },
 "nbformat": 4,
 "nbformat_minor": 5
}
